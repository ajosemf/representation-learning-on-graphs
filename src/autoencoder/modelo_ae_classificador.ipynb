{
 "cells": [
  {
   "cell_type": "code",
   "execution_count": null,
   "metadata": {},
   "outputs": [],
   "source": [
    "import keras\n",
    "\n",
    "from keras.datasets import mnist\n",
    "from keras.models import Model\n",
    "from keras.layers import Input, Conv2D, MaxPooling2D, Flatten, Dense, UpSampling2D\n",
    "\n",
    "batch_size = 128\n",
    "num_classes = 10\n",
    "epochs = 12\n",
    "\n",
    "# input image dimensions\n",
    "img_rows, img_cols = 28, 28\n",
    "\n",
    "# Data \n",
    "(x_train, y_train), (x_test, y_test) = mnist.load_data()\n",
    "x_train = x_train.reshape(x_train.shape[0], img_rows, img_cols, 1).astype('float32') / 255\n",
    "x_test = x_test.reshape(x_test.shape[0], img_rows, img_cols, 1).astype('float32') / 255\n",
    "y_train = keras.utils.to_categorical(y_train, num_classes)\n",
    "y_test = keras.utils.to_categorical(y_test, num_classes)\n",
    "\n",
    "# Convolutional Encoder\n",
    "input_img = Input(shape=(img_rows, img_cols, 1))\n",
    "conv_1 = Conv2D(16, (3, 3), activation='relu', padding='same')(input_img)\n",
    "pool_1 = MaxPooling2D((2, 2), padding='same')(conv_1)\n",
    "conv_2 = Conv2D(8, (3, 3), activation='relu', padding='same')(pool_1)\n",
    "pool_2 = MaxPooling2D((2, 2), padding='same')(conv_2)\n",
    "conv_3 = Conv2D(8, (3, 3), activation='relu', padding='same')(pool_2)\n",
    "encoded= MaxPooling2D((2, 2), padding='same')(conv_3)\n",
    "\n",
    "# Classification\n",
    "flatten = Flatten()(encoded)\n",
    "fc = Dense(128, activation='relu')(flatten)\n",
    "softmax = Dense(num_classes, activation='softmax', name='classification')(fc)\n",
    "\n",
    "# Decoder\n",
    "conv_4 = Conv2D(8, (3, 3), activation='relu', padding='same')(encoded)\n",
    "up_1 = UpSampling2D((2, 2))(conv_4)\n",
    "conv_5 = Conv2D(8, (3, 3), activation='relu', padding='same')(up_1)\n",
    "up_2 = UpSampling2D((2, 2))(conv_5)\n",
    "conv_6 = Conv2D(16, (3, 3), activation='relu')(up_2)\n",
    "up_3 = UpSampling2D((2, 2))(conv_6)\n",
    "decoded = Conv2D(1, (3, 3), activation='sigmoid', padding='same', name='autoencoder')(up_3)\n",
    "\n",
    "model = Model(inputs=input_img, outputs=[softmax, decoded])\n",
    "\n",
    "model.compile(loss={'classification': 'categorical_crossentropy', \n",
    "                    'autoencoder': 'binary_crossentropy'},\n",
    "              optimizer='adam',\n",
    "              metrics={'classification': 'accuracy'})\n",
    "\n",
    "model.fit(x_train, \n",
    "          {'classification': y_train, 'autoencoder': x_train},\n",
    "          batch_size=batch_size,\n",
    "          epochs=epochs,\n",
    "          validation_data= (x_test, {'classification': y_test, 'autoencoder': x_test}),\n",
    "          verbose=1)"
   ]
  }
 ],
 "metadata": {
  "kernelspec": {
   "display_name": "Python 3",
   "language": "python",
   "name": "python3"
  },
  "language_info": {
   "codemirror_mode": {
    "name": "ipython",
    "version": 3
   },
   "file_extension": ".py",
   "mimetype": "text/x-python",
   "name": "python",
   "nbconvert_exporter": "python",
   "pygments_lexer": "ipython3",
   "version": "3.5.2"
  }
 },
 "nbformat": 4,
 "nbformat_minor": 2
}
