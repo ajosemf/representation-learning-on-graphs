{
 "cells": [
  {
   "cell_type": "code",
   "execution_count": 1,
   "metadata": {},
   "outputs": [
    {
     "name": "stderr",
     "output_type": "stream",
     "text": [
      "/usr/local/lib/python3.5/dist-packages/tensorflow/python/framework/dtypes.py:493: FutureWarning: Passing (type, 1) or '1type' as a synonym of type is deprecated; in a future version of numpy, it will be understood as (type, (1,)) / '(1,)type'.\n",
      "  _np_qint8 = np.dtype([(\"qint8\", np.int8, 1)])\n",
      "/usr/local/lib/python3.5/dist-packages/tensorflow/python/framework/dtypes.py:494: FutureWarning: Passing (type, 1) or '1type' as a synonym of type is deprecated; in a future version of numpy, it will be understood as (type, (1,)) / '(1,)type'.\n",
      "  _np_quint8 = np.dtype([(\"quint8\", np.uint8, 1)])\n",
      "/usr/local/lib/python3.5/dist-packages/tensorflow/python/framework/dtypes.py:495: FutureWarning: Passing (type, 1) or '1type' as a synonym of type is deprecated; in a future version of numpy, it will be understood as (type, (1,)) / '(1,)type'.\n",
      "  _np_qint16 = np.dtype([(\"qint16\", np.int16, 1)])\n",
      "/usr/local/lib/python3.5/dist-packages/tensorflow/python/framework/dtypes.py:496: FutureWarning: Passing (type, 1) or '1type' as a synonym of type is deprecated; in a future version of numpy, it will be understood as (type, (1,)) / '(1,)type'.\n",
      "  _np_quint16 = np.dtype([(\"quint16\", np.uint16, 1)])\n",
      "/usr/local/lib/python3.5/dist-packages/tensorflow/python/framework/dtypes.py:497: FutureWarning: Passing (type, 1) or '1type' as a synonym of type is deprecated; in a future version of numpy, it will be understood as (type, (1,)) / '(1,)type'.\n",
      "  _np_qint32 = np.dtype([(\"qint32\", np.int32, 1)])\n",
      "/usr/local/lib/python3.5/dist-packages/tensorflow/python/framework/dtypes.py:502: FutureWarning: Passing (type, 1) or '1type' as a synonym of type is deprecated; in a future version of numpy, it will be understood as (type, (1,)) / '(1,)type'.\n",
      "  np_resource = np.dtype([(\"resource\", np.ubyte, 1)])\n",
      "/usr/local/lib/python3.5/dist-packages/h5py/__init__.py:36: FutureWarning: Conversion of the second argument of issubdtype from `float` to `np.floating` is deprecated. In future, it will be treated as `np.float64 == np.dtype(float).type`.\n",
      "  from ._conv import register_converters as _register_converters\n"
     ]
    }
   ],
   "source": [
    "import numpy as np\n",
    "import matplotlib.pyplot as plt\n",
    "import tensorflow as tf\n",
    "\n",
    "from sklearn.metrics import f1_score\n",
    "\n",
    "from model import Autoencoder\n",
    "from utils import load_graphsage_data\n",
    "from debug import *"
   ]
  },
  {
   "cell_type": "markdown",
   "metadata": {},
   "source": [
    "### Carregando o dataset"
   ]
  },
  {
   "cell_type": "code",
   "execution_count": 2,
   "metadata": {},
   "outputs": [
    {
     "name": "stdout",
     "output_type": "stream",
     "text": [
      "Removed 0 nodes that lacked proper annotations due to networkx versioning issues\n",
      "Loaded data, now preprocessing..\n",
      "Data processed\n"
     ]
    }
   ],
   "source": [
    "# Import data\n",
    "dataset_path = '../datasets'\n",
    "dataset_str = 'pubmed'\n",
    "\n",
    "num_data, feats, labels, train_ids, val_ids, test_ids = load_graphsage_data(dataset_path, dataset_str)"
   ]
  },
  {
   "cell_type": "code",
   "execution_count": 3,
   "metadata": {},
   "outputs": [
    {
     "data": {
      "text/plain": [
       "((19717, 500), (19717, 3), (11831,), (3943,), (3943,))"
      ]
     },
     "execution_count": 3,
     "metadata": {},
     "output_type": "execute_result"
    }
   ],
   "source": [
    "feats.shape, labels.shape, train_ids.shape, val_ids.shape, test_ids.shape"
   ]
  },
  {
   "cell_type": "markdown",
   "metadata": {},
   "source": [
    "### Hiperparâmetros"
   ]
  },
  {
   "cell_type": "code",
   "execution_count": 4,
   "metadata": {},
   "outputs": [],
   "source": [
    "learning_rates = [0.01, 0.001]\n",
    "batch_sizes = [32, 64, 128, 256]"
   ]
  },
  {
   "cell_type": "markdown",
   "metadata": {},
   "source": [
    "### Treinamento"
   ]
  },
  {
   "cell_type": "code",
   "execution_count": 5,
   "metadata": {},
   "outputs": [
    {
     "name": "stdout",
     "output_type": "stream",
     "text": [
      "Learning rate: 0.01, batch size: 32\n",
      "Epoch 1 / 50 loss: 9.405606\n",
      "Epoch 10 / 50 loss: 1.9680955\n",
      "Epoch 20 / 50 loss: 1.6270456\n",
      "Epoch 30 / 50 loss: 1.7501824\n",
      "Epoch 40 / 50 loss: 1.6836352\n",
      "Epoch 50 / 50 loss: 1.6247962\n",
      "Val loss: [1.6928716]\n",
      "Training time: 39.992 seconds\n",
      "macro_f1: 0.8482399764469433, micro_f1:0.853157494293685\n",
      "\n",
      "\n",
      "Model saved\n",
      "\n",
      "Learning rate: 0.01, batch size: 64\n",
      "Epoch 1 / 50 loss: 39.909435\n",
      "Epoch 10 / 50 loss: 2.2860947\n",
      "Epoch 20 / 50 loss: 1.9116464\n",
      "Epoch 30 / 50 loss: 1.8231435\n",
      "Epoch 40 / 50 loss: 1.7711976\n",
      "Epoch 50 / 50 loss: 1.7021848\n",
      "Val loss: [1.751874]\n",
      "Training time: 29.5471 seconds\n",
      "macro_f1: 0.7821849389607447, micro_f1:0.7895003804209992\n",
      "\n",
      "\n",
      "Learning rate: 0.01, batch size: 128\n",
      "Epoch 1 / 50 loss: 121.004715\n",
      "Epoch 10 / 50 loss: 2.4503427\n",
      "Epoch 20 / 50 loss: 2.0706675\n",
      "Epoch 30 / 50 loss: 2.030827\n",
      "Epoch 40 / 50 loss: 1.9461629\n",
      "Epoch 50 / 50 loss: 1.8242368\n",
      "Val loss: [1.8549087]\n",
      "Training time: 24.1822 seconds\n",
      "macro_f1: 0.6365916673646678, micro_f1:0.6403753487192493\n",
      "\n",
      "\n",
      "Learning rate: 0.01, batch size: 256\n",
      "Epoch 1 / 50 loss: 255.28577\n",
      "Epoch 10 / 50 loss: 5.300826\n",
      "Epoch 20 / 50 loss: 2.4945457\n",
      "Epoch 30 / 50 loss: 2.076791\n",
      "Epoch 40 / 50 loss: 2.0005212\n",
      "Epoch 50 / 50 loss: 1.997294\n",
      "Val loss: [1.9765637]\n",
      "Training time: 18.9151 seconds\n",
      "macro_f1: 0.5309188688658653, micro_f1:0.5320821709358357\n",
      "\n",
      "\n",
      "Learning rate: 0.001, batch size: 32\n",
      "Epoch 1 / 50 loss: 421.87238\n",
      "Epoch 10 / 50 loss: 6.737114\n",
      "Epoch 20 / 50 loss: 2.049771\n",
      "Epoch 30 / 50 loss: 1.8828235\n",
      "Epoch 40 / 50 loss: 1.9156005\n",
      "Epoch 50 / 50 loss: 1.7075487\n",
      "Val loss: [1.772805]\n",
      "Training time: 40.2573 seconds\n",
      "macro_f1: 0.7528254680068626, micro_f1:0.7575450164849101\n",
      "\n",
      "\n",
      "Learning rate: 0.001, batch size: 64\n",
      "Epoch 1 / 50 loss: 572.7443\n",
      "Epoch 10 / 50 loss: 43.532673\n",
      "Epoch 20 / 50 loss: 4.8576784\n",
      "Epoch 30 / 50 loss: 2.5926852\n",
      "Epoch 40 / 50 loss: 2.3691926\n",
      "Epoch 50 / 50 loss: 2.028265\n",
      "Val loss: [2.1044269]\n",
      "Training time: 29.7651 seconds\n",
      "macro_f1: 0.39907901638157467, micro_f1:0.3994420492011159\n",
      "\n",
      "\n",
      "Learning rate: 0.001, batch size: 128\n",
      "Epoch 1 / 50 loss: 626.7043\n",
      "Epoch 10 / 50 loss: 142.39995\n",
      "Epoch 20 / 50 loss: 27.541464\n",
      "Epoch 30 / 50 loss: 9.332751\n",
      "Epoch 40 / 50 loss: 4.9892545\n",
      "Epoch 50 / 50 loss: 2.9852018\n",
      "Val loss: [3.043149]\n",
      "Training time: 25.3414 seconds\n",
      "macro_f1: 0.31553579615397065, micro_f1:0.317017499365965\n",
      "\n",
      "\n",
      "Learning rate: 0.001, batch size: 256\n",
      "Epoch 1 / 50 loss: 672.9425\n",
      "Epoch 10 / 50 loss: 228.39156\n",
      "Epoch 20 / 50 loss: 122.80025\n",
      "Epoch 30 / 50 loss: 51.51176\n",
      "Epoch 40 / 50 loss: 29.453197\n",
      "Epoch 50 / 50 loss: 19.413342\n",
      "Val loss: [19.426567]\n",
      "Training time: 19.9645 seconds\n",
      "macro_f1: 0.30155242613761574, micro_f1:0.3023078873953842\n",
      "\n",
      "\n"
     ]
    }
   ],
   "source": [
    "# Tensorflow implementation\n",
    "\n",
    "params = list()\n",
    "best_model = None\n",
    "min_val_loss = 99999999\n",
    "n_epochs = 50\n",
    "best_model_path = 'best_model/pubmed_model'\n",
    "\n",
    "for lr in learning_rates:\n",
    "    autoencodertf = Autoencoder(feats.shape[1],\n",
    "                                hidden_dim=labels.shape[1],\n",
    "                                learning_rate=lr)\n",
    "    \n",
    "    for b_size in batch_sizes:\n",
    "        print('Learning rate: {}, batch size: {}'.format(lr, b_size))\n",
    "        train_loss, val_loss, time_per_epoch = autoencodertf.train(feats[train_ids],\n",
    "                                                                   labels[train_ids],\n",
    "                                                                   feats[val_ids],\n",
    "                                                                   labels[val_ids],\n",
    "                                                                   batch_size=b_size,\n",
    "                                                                   epochs=n_epochs)\n",
    "        print('Val loss: {}'.format(val_loss[-1]))\n",
    "        print('Training time: {} seconds'.format(round(np.sum(time_per_epoch),4)))\n",
    "        \n",
    "        # precisão\n",
    "        preds = autoencodertf.predict(feats[test_ids])\n",
    "        y_test = np.argmax(labels[test_ids], axis=1)\n",
    "        y_pred = np.argmax(preds[0], axis=1)\n",
    "        micro_f1 = f1_score(y_test, y_pred, average='micro')\n",
    "        macro_f1 = f1_score(y_test, y_pred, average='macro')\n",
    "        print(\"macro_f1: {}, micro_f1:{}\\n\\n\".format(macro_f1, micro_f1))\n",
    "        \n",
    "        # best model\n",
    "        if val_loss[-1][0] < min_val_loss:\n",
    "            min_val_loss = val_loss[-1][0]\n",
    "            best_model = [lr, b_size, train_loss, val_loss, time_per_epoch, micro_f1, macro_f1]\n",
    "            autoencodertf.save_model(best_model_path)\n",
    "        \n",
    "        params.append([lr, b_size, train_loss, val_loss, time_per_epoch, micro_f1, macro_f1])\n",
    "        \n",
    "np.save('results/params', params)\n",
    "np.save('results/best_params', best_model)\n",
    "\n",
    "# to load that...\n",
    "# best_params = np.load('results/best_params.npy', allow_pickle=True)\n",
    "# lr, b_size, train_loss, val_loss, time_per_epoch, micro_f1, macro_f1 = best_params"
   ]
  },
  {
   "cell_type": "markdown",
   "metadata": {},
   "source": [
    "### Estatisticas do treinamento"
   ]
  },
  {
   "cell_type": "code",
   "execution_count": 6,
   "metadata": {},
   "outputs": [
    {
     "data": {
      "image/png": "[encoded data removed]",
      "text/plain": [
       "<matplotlib.figure.Figure at 0x7efbc1ca8c50>"
      ]
     },
     "metadata": {},
     "output_type": "display_data"
    }
   ],
   "source": [
    "# Convergencia\n",
    "\n",
    "x = list(range(1,len(train_loss)+1))\n",
    "rows = 2\n",
    "cols = 2\n",
    "fig, ax = plt.subplots(rows, cols)\n",
    "fig.set_size_inches(10,8)\n",
    "# ax[-1,-1].remove()\n",
    "\n",
    "idx = 0\n",
    "for row in range(rows):\n",
    "    for col in range(cols):\n",
    "        lr, b_size, train_loss, val_loss, time_per_epoch, micro_f1, macro_f1 = params[idx]\n",
    "        ax[row][col].set_title('lr:{}, bsize:{}'.format(lr, b_size), fontsize=13)\n",
    "        if row == 1: ax[row][col].set_xlabel('epochs', fontsize=13)\n",
    "        ax[row][col].set_ylabel('error', fontsize=13)\n",
    "        ax[row][col].set_ylim([0,10])\n",
    "        ax[row][col].plot(x, train_loss, label='train')\n",
    "        ax[row][col].plot(x, val_loss, label='val')\n",
    "        ax[row][col].legend()\n",
    "        idx += 1"
   ]
  },
  {
   "cell_type": "code",
   "execution_count": 7,
   "metadata": {},
   "outputs": [
    {
     "data": {
      "image/png": "[encoded data removed]",
      "text/plain": [
       "<matplotlib.figure.Figure at 0x7efbc1c612e8>"
      ]
     },
     "metadata": {},
     "output_type": "display_data"
    }
   ],
   "source": [
    "fig, ax = plt.subplots(rows, cols)\n",
    "fig.set_size_inches(10,8)\n",
    "# ax[-1,-1].remove()\n",
    "\n",
    "idx = 4\n",
    "for row in range(rows):\n",
    "    for col in range(cols):\n",
    "        lr, b_size, train_loss, val_loss, time_per_epoch, micro_f1, macro_f1 = params[idx]\n",
    "        ax[row][col].set_title('lr:{}, bsize:{}'.format(lr, b_size), fontsize=13)\n",
    "        if row == 1: ax[row][col].set_xlabel('epochs', fontsize=13)\n",
    "        ax[row][col].set_ylabel('error', fontsize=13)\n",
    "        ax[row][col].set_ylim([0,30])\n",
    "        ax[row][col].plot(x, train_loss, label='train')\n",
    "        ax[row][col].plot(x, val_loss, label='val')\n",
    "        ax[row][col].legend()\n",
    "        idx += 1"
   ]
  },
  {
   "cell_type": "markdown",
   "metadata": {},
   "source": [
    "### Melhor model"
   ]
  },
  {
   "cell_type": "code",
   "execution_count": 8,
   "metadata": {},
   "outputs": [
    {
     "name": "stdout",
     "output_type": "stream",
     "text": [
      "lr:0.01, b_size:32\n",
      "val_loss: [1.6928716]\n",
      "average time per epoch: 0.7998 seconds\n",
      "macro_f1: 0.8482399764469433, micro_f1:0.853157494293685\n"
     ]
    }
   ],
   "source": [
    "lr, b_size, train_loss, val_loss, time_per_epoch, micro_f1, macro_f1 = best_model\n",
    "\n",
    "print('lr:{}, b_size:{}'.format(lr, b_size))\n",
    "print('val_loss:', val_loss[-1])\n",
    "print('average time per epoch: {} seconds'.format(round(np.mean(time_per_epoch),4)))\n",
    "print(\"macro_f1: {}, micro_f1:{}\".format(macro_f1, micro_f1))"
   ]
  },
  {
   "cell_type": "markdown",
   "metadata": {},
   "source": [
    "### Carregando e testando o melhor model"
   ]
  },
  {
   "cell_type": "code",
   "execution_count": 9,
   "metadata": {},
   "outputs": [
    {
     "name": "stdout",
     "output_type": "stream",
     "text": [
      "Epoch 1 / 50 loss: 9.334122\n",
      "Epoch 10 / 50 loss: 1.913132\n",
      "Epoch 20 / 50 loss: 1.5812062\n",
      "Epoch 30 / 50 loss: 1.7675674\n",
      "Epoch 40 / 50 loss: 1.7346537\n",
      "Epoch 50 / 50 loss: 1.6124899\n",
      "Val loss: [1.6920868]\n",
      "Training time: 42.6508 seconds\n",
      "\n",
      "macro_f1: 0.8449447978654714, micro_f1:0.8503677402992645\n"
     ]
    }
   ],
   "source": [
    "# loading best model\n",
    "model = Autoencoder(feats.shape[1],\n",
    "                    hidden_dim=labels.shape[1],\n",
    "                    learning_rate=lr)\n",
    "\n",
    "#best_model_path = 'best_model/pubmed_model'\n",
    "#model.load_model(best_model_path)\n",
    "\n",
    "train_loss, val_loss, time_per_epoch = model.train(feats[train_ids],\n",
    "                                                   labels[train_ids],\n",
    "                                                   feats[val_ids],\n",
    "                                                   labels[val_ids],\n",
    "                                                   batch_size=b_size,\n",
    "                                                   epochs=n_epochs)\n",
    "print('Val loss: {}'.format(val_loss[-1]))\n",
    "print('Training time: {} seconds'.format(round(np.sum(time_per_epoch),4)))\n",
    "\n",
    "\n",
    "# test\n",
    "preds = model.predict(feats[test_ids])\n",
    "y_test = np.argmax(labels[test_ids], axis=1)\n",
    "y_pred = np.argmax(preds[0], axis=1)\n",
    "micro_f1 = f1_score(y_test, y_pred, average='micro')\n",
    "macro_f1 = f1_score(y_test, y_pred, average='macro')\n",
    "print(\"\\nmacro_f1: {}, micro_f1:{}\".format(macro_f1, micro_f1))    "
   ]
  },
  {
   "cell_type": "code",
   "execution_count": 10,
   "metadata": {},
   "outputs": [
    {
     "data": {
      "image/png": "[encoded data removed]",
      "text/plain": [
       "<matplotlib.figure.Figure at 0x7efbc1c12978>"
      ]
     },
     "metadata": {},
     "output_type": "display_data"
    }
   ],
   "source": [
    "# Convergencia\n",
    "lr, b_size, train_loss, val_loss, time_per_epoch, micro_f1, macro_f1 = best_model\n",
    "x = list(range(1,len(train_loss)+1))\n",
    "\n",
    "fig, ax = plt.subplots()  # Create a figure containing a single axes.\n",
    "ax.set_title('Convergência', fontsize=16)\n",
    "ax.set_xlabel('Época', fontsize=13)\n",
    "ax.set_ylabel('Erro', fontsize=13)\n",
    "ax.plot(x, train_loss, label='train')\n",
    "ax.plot(x, val_loss, label='val')\n",
    "ax.legend()\n",
    "fig.savefig('results/convergencia.png')"
   ]
  },
  {
   "cell_type": "code",
   "execution_count": 11,
   "metadata": {},
   "outputs": [
    {
     "name": "stdout",
     "output_type": "stream",
     "text": [
      "Time\n",
      "Average time per epoch: 0.7998 seconds\n",
      "Total time: 39.992 seconds\n"
     ]
    }
   ],
   "source": [
    "print('Time')\n",
    "print('Average time per epoch: {} seconds'.format(round(np.mean(time_per_epoch), 4)))\n",
    "print('Total time: {} seconds'.format(round(np.sum(time_per_epoch),4)))"
   ]
  },
  {
   "cell_type": "markdown",
   "metadata": {},
   "source": [
    "### Precisão"
   ]
  },
  {
   "cell_type": "code",
   "execution_count": 12,
   "metadata": {},
   "outputs": [
    {
     "name": "stdout",
     "output_type": "stream",
     "text": [
      "Hints: 3353/3943\n"
     ]
    }
   ],
   "source": [
    "preds = model.predict(feats[test_ids])\n",
    "equals = np.equal(np.argmax(preds[0], axis=1), np.argmax(labels[test_ids], axis=1))\n",
    "hints = np.sum(equals.astype(int))\n",
    "\n",
    "print('Hints: {}/{}'.format(hints, labels[test_ids].shape[0]))"
   ]
  },
  {
   "cell_type": "code",
   "execution_count": 13,
   "metadata": {},
   "outputs": [
    {
     "name": "stdout",
     "output_type": "stream",
     "text": [
      "macro_f1: 0.8503677402992645, micro_f1:0.8449447978654714\n"
     ]
    }
   ],
   "source": [
    "y_test = np.argmax(labels[test_ids], axis=1)\n",
    "y_pred = np.argmax(preds[0], axis=1)\n",
    "print(\"macro_f1: {}, micro_f1:{}\".format(f1_score(y_test, y_pred, average='micro'),\n",
    "                                             f1_score(y_test, y_pred, average='macro')))"
   ]
  },
  {
   "cell_type": "code",
   "execution_count": 14,
   "metadata": {},
   "outputs": [
    {
     "data": {
      "text/plain": [
       "'Precision of 85.037%'"
      ]
     },
     "execution_count": 14,
     "metadata": {},
     "output_type": "execute_result"
    }
   ],
   "source": [
    "'Precision of {}%'.format(round(hints*100/labels[test_ids].shape[0], 3))  "
   ]
  },
  {
   "cell_type": "code",
   "execution_count": null,
   "metadata": {},
   "outputs": [],
   "source": []
  },
  {
   "cell_type": "code",
   "execution_count": null,
   "metadata": {},
   "outputs": [],
   "source": []
  },
  {
   "cell_type": "code",
   "execution_count": null,
   "metadata": {},
   "outputs": [],
   "source": []
  },
  {
   "cell_type": "code",
   "execution_count": null,
   "metadata": {},
   "outputs": [],
   "source": []
  },
  {
   "cell_type": "code",
   "execution_count": null,
   "metadata": {},
   "outputs": [],
   "source": []
  },
  {
   "cell_type": "markdown",
   "metadata": {},
   "source": [
    "### Code\n",
    "`x = 5`\n",
    "\n",
    "### Highlighted code\n",
    "\n",
    "```Python\n",
    "str = \"This is block level code\"\n",
    "print(str)\n",
    "``` \n",
    "\n",
    "### Bold, italic\n",
    "<b>bold</b> example, **bold** example, __bold__ example <br>\n",
    "<i>italic</i> example, *italic* example, _italic_  example\n",
    "\n",
    "### Blocks\n",
    ">This is good\n",
    "<blockquote>This is good</blockquote> \n",
    "\n",
    "### Horizontal Line\n",
    "___\n",
    "\n",
    "### Tabela\n",
    "\n",
    "|Name|Address|Salary|\n",
    "|-----|-------|------|\n",
    "|Hanna|Brisbane|4000|\n",
    "|Adam|Sydney|5000| "
   ]
  },
  {
   "cell_type": "code",
   "execution_count": null,
   "metadata": {},
   "outputs": [],
   "source": []
  },
  {
   "cell_type": "code",
   "execution_count": null,
   "metadata": {},
   "outputs": [],
   "source": []
  }
 ],
 "metadata": {
  "kernelspec": {
   "display_name": "Python 3",
   "language": "python",
   "name": "python3"
  },
  "language_info": {
   "codemirror_mode": {
    "name": "ipython",
    "version": 3
   },
   "file_extension": ".py",
   "mimetype": "text/x-python",
   "name": "python",
   "nbconvert_exporter": "python",
   "pygments_lexer": "ipython3",
   "version": "3.5.2"
  }
 },
 "nbformat": 4,
 "nbformat_minor": 2
}
